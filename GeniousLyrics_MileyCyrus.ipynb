{
 "cells": [
  {
   "cell_type": "code",
   "execution_count": 22,
   "metadata": {},
   "outputs": [],
   "source": [
    "#importing library\n",
    "import lyricsgenius\n",
    "genius = lyricsgenius.Genius(\"xeMHF-yI_VP16n1w5F3DTDTzTPqcBVveDxcRzhFeeG6lp-R0pAWtQeSdwnYms65K\")\n",
    "#artist = genius.search_artist(\"Miley Cyrus\")\n",
    "genius.verbose = False # Turn off status messages\n",
    "genius.remove_section_headers = True # Remove section headers (e.g. [Chorus]) from lyrics when searching\n",
    "#genius.skip_non_songs = False # Include hits thought to be non-songs (e.g. track lists)\n",
    "genius.excluded_terms = [\"(Remix)\", \"(Live)\"] # Exclude songs with these words in their title"
   ]
  },
  {
   "cell_type": "code",
   "execution_count": 23,
   "metadata": {},
   "outputs": [
    {
     "name": "stdout",
     "output_type": "stream",
     "text": [
      "I hopped off the plane at LAX\n",
      "With a dream and my cardigan\n",
      "Welcome to the land of fame excess (Whoa)\n",
      "Am I gonna fit in?\n",
      "Jumped in the cab, here I am for the first time\n",
      "Look to my right, and I see the Hollywood sign\n",
      "This is all so crazy\n",
      "Everybody seems so famous\n",
      "\n",
      "My tummy's turnin' and I'm feelin' kinda home sick\n",
      "Too much pressure and I'm nervous\n",
      "That's when the taxi man turned on the radio\n",
      "And a JAY-Z song was on\n",
      "And a JAY-Z song was on\n",
      "And a JAY-Z song was on\n",
      "\n",
      "So I put my hands up\n",
      "They're playing my song, the butterflies fly away\n",
      "I'm noddin' my head like, 'yeah'\n",
      "Movin' my hips like, 'yeah'\n",
      "Got my hands up, they're playing my song\n",
      "They know I'm gonna be okay\n",
      "Yeah, it's a party in the U.S.A. \n",
      "Yeah, it's a party in the U.S.A. \n",
      "\n",
      "Get to the club in my taxi cab\n",
      "Everybody's looking at me now\n",
      "Like, \"Who's that chick, that's rockin' kicks?\n",
      "She gotta be from out of town\"\n",
      "So hard with my girls not around me\n",
      "It's definitely not a Nashville party\n",
      "'Cause all I see are stilettos\n",
      "I guess I never got the memo\n",
      "\n",
      "My tummy's turnin' and I'm feelin' kinda home sick\n",
      "Too much pressure and I'm nervous\n",
      "That's when the DJ dropped my favorite tune\n",
      "And a Britney song was on\n",
      "And a Britney song was on\n",
      "And a Britney song was on\n",
      "\n",
      "So I put my hands up\n",
      "They're playing my song, the butterflies fly away\n",
      "I'm noddin' my head like, 'yeah'\n",
      "Movin' my hips like, 'yeah'\n",
      "Got my hands up, they're playing my song\n",
      "They know I'm gonna be okay\n",
      "Yeah, it's a party in the U.S.A. \n",
      "Yeah, it's a party in the U.S.A. \n",
      "\n",
      "Feel like hopping on a flight (On a flight)\n",
      "Back to my hometown tonight (Town tonight)\n",
      "Something stops me every time (Every time)\n",
      "The DJ plays my song and I feel alright\n",
      "\n",
      "So I put my hands up\n",
      "They're playing my song, the butterflies fly away\n",
      "I'm noddin' my head like, 'yeah' (Noddin' my head)\n",
      "Movin' my hips like, 'yeah' (Ooh, yeah)\n",
      "Got my hands up, they're playing my song\n",
      "They know I'm gonna be okay (Gonna be okay)\n",
      "Yeah, it's a party in the U.S.A. \n",
      "Yeah, it's a party in the U.S.A. \n",
      "\n",
      "So I put my hands up\n",
      "They're playing my song, the butterflies fly away (Flying away)\n",
      "I'm noddin' my head like, 'yeah' (Noddin' my head like, 'yeah')\n",
      "Movin' my hips like, 'yeah' (Movin' my hips like, 'yeah')\n",
      "Got my hands up, they're playing my song\n",
      "They know I'm gonna be okay (I'm gonna be okay)\n",
      "Yeah, it's a party in the U.S.A. \n",
      "Yeah (ha-ha-ha-ha), it's a party in the U.S.A. \n"
     ]
    }
   ],
   "source": [
    "#partyintheusa = genius.search_song(\"Party in the U.S.A.\", artist.name)\n",
    "partyintheusa=genius.search_song(\"Party in the U.S.A.\", \"Miley Cyrus\")\n",
    "print(partyintheusa.lyrics)"
   ]
  },
  {
   "cell_type": "code",
   "execution_count": 24,
   "metadata": {},
   "outputs": [
    {
     "name": "stdout",
     "output_type": "stream",
     "text": [
      "I can almost see it\n",
      "That dream I'm dreaming, but\n",
      "There's a voice inside my head saying\n",
      "\"You'll never reach it\"\n",
      "Every step I'm taking\n",
      "Every move I make feels lost, with no direction\n",
      "My faith is shaken\n",
      "\n",
      "But I, I gotta keep trying\n",
      "Gotta keep my head held high\n",
      "\n",
      "There's always gonna be another mountain\n",
      "I'm always gonna wanna make it move\n",
      "Always gonna be an uphill battle\n",
      "Sometimes I'm gonna have to lose\n",
      "Ain’t about how fast I get there\n",
      "Ain’t about what's waiting on the other side\n",
      "It's the climb\n",
      "\n",
      "The struggles I'm facing\n",
      "The chances I'm taking\n",
      "Sometimes might knock me down, but\n",
      "No, I'm not breaking\n",
      "I may not know it\n",
      "But these are the moments that I'm gonna remember most, yeah\n",
      "Just gotta keep going\n",
      "\n",
      "And I, I gotta be strong\n",
      "Just keep pushing on, 'cause...\n",
      "\n",
      "There's always gonna be another mountain\n",
      "I'm always gonna wanna make it move\n",
      "Always gonna be an uphill battle\n",
      "Sometimes I'm gonna have to lose\n",
      "Ain’t about how fast I get there\n",
      "Ain’t about what's waiting on the other side\n",
      "It's the climb\n",
      "\n",
      "\n",
      "There's always gonna be another mountain\n",
      "I'm always gonna wanna make it move\n",
      "Always gonna be an uphill battle\n",
      "Sometimes you're gonna have to lose\n",
      "Ain’t about how fast I get there\n",
      "Ain’t about what's waiting on the other side\n",
      "It's the climb\n",
      "\n",
      "Keep on moving\n",
      "Keep climbing\n",
      "Keep the faith, baby\n",
      "It's all about, it's all about the climb\n",
      "Keep your faith, keep your faith\n"
     ]
    }
   ],
   "source": [
    "theclimb=genius.search_song(\"The Climb\", \"Miley Cyrus\")\n",
    "print(theclimb.lyrics)"
   ]
  },
  {
   "cell_type": "code",
   "execution_count": 25,
   "metadata": {},
   "outputs": [
    {
     "name": "stdout",
     "output_type": "stream",
     "text": [
      "It’s our party, we can do what we want\n",
      "It’s our party, we can say what we want\n",
      "It’s our party, we can love who we want\n",
      "We can kiss who we want\n",
      "We can screw who we want\n",
      "It’s our party, we can do what we want\n",
      "It’s our party, we can say what we want\n",
      "It’s our party, we can love who we want\n",
      "We can kiss who we want\n",
      "We can screw who we want\n",
      "\n",
      "Red cups and sweaty bodies everywhere\n",
      "Hands in the air like we don’t care\n",
      "'Cause we came to have so much fun now\n",
      "Bet somebody here might get some now\n",
      "If you’re not ready to go home\n",
      "Can I get a \"hell no\"?\n",
      "'Cause we gonna go all night\n",
      "Till we see the sunlight, alright\n",
      "\n",
      "So la-da-di-da-di, we like to party\n",
      "Dancing with Molly\n",
      "Doing whatever we want\n",
      "This is our house\n",
      "This is our rules\n",
      "\n",
      "And we can’t stop\n",
      "And we won’t stop\n",
      "Can't you see it's we who own the night?\n",
      "Can't you see it's we who 'bout that life?\n",
      "And we can’t stop\n",
      "And we won’t stop\n",
      "We run things, things don’t run we\n",
      "Don’t take nothing from nobody\n",
      "\n",
      "It’s our party, we can do what we want\n",
      "It’s our party, we can say what we want\n",
      "It’s our party, we can love who we want\n",
      "We can kiss who we want\n",
      "We can screw who we want\n",
      "\n",
      "To my homegirls here with the big butt\n",
      "Shaking it like we at a strip club\n",
      "Remember only God can judge ya\n",
      "Forget the haters, 'cause somebody loves ya\n",
      "And everyone in line in the bathroom\n",
      "Trying to get a line in the bathroom\n",
      "We all so turnt up here\n",
      "Getting turnt up, yeah, yeah, yeah, yeah\n",
      "\n",
      "So la-da-di-da-di, we like to party\n",
      "Dancing with Molly\n",
      "Doing whatever we want\n",
      "This is our house\n",
      "This is our rules\n",
      "\n",
      "And we can’t stop\n",
      "And we won’t stop\n",
      "Can't you see it's we who own the night?\n",
      "Can't you see it's we who 'bout that life?\n",
      "And we can’t stop\n",
      "And we won’t stop\n",
      "We run things, things don’t run we\n",
      "Don’t take nothing from nobody, yeah, yeah\n",
      "\n",
      "It’s our party, we can do what we want\n",
      "It’s our party, we can say what we want\n",
      "It’s our party, we can love who we want\n",
      "We can kiss who we want\n",
      "We can screw who we want\n",
      "\n",
      "It's our party, we can do what we want to!\n",
      "It's our house, we can love who we want to!\n",
      "It's our song, we can sing if we want to!\n",
      "It's my mouth, I can say what I want to\n",
      "Yeah! Yeah! Yeah! Ehh!\n",
      "\n",
      "And we can't stop (Yeah)\n",
      "And we won't stop (Oh)\n",
      "Can't you see it's we who own the night?\n",
      "Can't you see it's we who 'bout that life?\n",
      "And we can’t stop\n",
      "And we won’t stop\n",
      "We run things, things don't run we\n",
      "Don’t take nothing from nobody, yeah, yeah\n",
      "Yeah, yeah\n",
      "\n",
      "We can do what we want to\n",
      "We can do what we want to\n"
     ]
    }
   ],
   "source": [
    "wecantstop=genius.search_song(\"We Can't Stop\", \"Miley Cyrus\")\n",
    "print(wecantstop.lyrics)"
   ]
  },
  {
   "cell_type": "code",
   "execution_count": 27,
   "metadata": {},
   "outputs": [
    {
     "name": "stdout",
     "output_type": "stream",
     "text": [
      "We clawed, we chained, our hearts in vain\n",
      "We jumped, never asking why\n",
      "We kissed, I fell under your spell\n",
      "A love no one could deny\n",
      "\n",
      "Don’t you ever say I just walked away\n",
      "I will always want you\n",
      "I can’t live a lie, running for my life\n",
      "I will always want you\n",
      "\n",
      "I came in like a wrecking ball\n",
      "I never hit so hard in love\n",
      "All I wanted was to break your walls\n",
      "All you ever did was wreck me\n",
      "Yeah, you, you wreck me\n",
      "\n",
      "I put you high up in the sky\n",
      "And now, you’re not coming down\n",
      "It slowly turned, you let me burn\n",
      "And now, we’re ashes on the ground\n",
      "\n",
      "Don’t you ever say I just walked away\n",
      "I will always want you\n",
      "I can’t live a lie, running for my life\n",
      "I will always want you\n",
      "\n",
      "I came in like a wrecking ball\n",
      "I never hit so hard in love\n",
      "All I wanted was to break your walls\n",
      "All you ever did was wreck me\n",
      "\n",
      "I came in like a wrecking ball\n",
      "Yeah, I just closed my eyes and swung\n",
      "Left me crashing in a blazing fall\n",
      "All you ever did was wreck me\n",
      "Yeah, you, you wreck me\n",
      "\n",
      "I never meant to start a war\n",
      "I just wanted you to let me in\n",
      "And instead of using force\n",
      "I guess I should’ve let you win\n",
      "I never meant to start a war\n",
      "I just wanted you to let me in\n",
      "I guess I should’ve let you win\n",
      "\n",
      "Don’t you ever say I just walked away\n",
      "I will always want you\n",
      "\n",
      "I came in like a wrecking ball\n",
      "I never hit so hard in love\n",
      "All I wanted was to break your walls\n",
      "All you ever did was wreck me\n",
      "\n",
      "I came in like a wrecking ball\n",
      "Yeah, I just closed my eyes and swung\n",
      "Left me crashing in a blazing fall\n",
      "All you ever did was wreck me\n",
      "Yeah, you, you wreck me\n",
      "Yeah, you, you wreck me\n"
     ]
    }
   ],
   "source": [
    "wreckingball=genius.search_song(\"wrecking ball\", \"Miley Cyrus\")\n",
    "print(wreckingball.lyrics)"
   ]
  },
  {
   "cell_type": "code",
   "execution_count": 26,
   "metadata": {},
   "outputs": [
    {
     "name": "stdout",
     "output_type": "stream",
     "text": [
      "I never came to the beach or stood by the ocean\n",
      "I never sat by the shore under the sun with my feet in the sand\n",
      "But you brought me here, and I'm happy that you did\n",
      "'Cause now I'm as free, as birds catchin' the wind\n",
      "I always thought I would sink, so I never swam\n",
      "I never went boatin', don't get how they are floatin'\n",
      "And sometimes I get so scared of what I can't understand\n",
      "\n",
      "But here I am, next to you\n",
      "The sky's more blue in Malibu\n",
      "Next to you in Malibu\n",
      "Next to you\n",
      "\n",
      "We watched the sun go down as we were walkin'\n",
      "I'd spent the rest of my life just standing here talkin'\n",
      "You would explain the current, as I just smile\n",
      "Hoping that you'll stay the same and nothing will change\n",
      "And it'll be us, just for a while\n",
      "Do they even exist?\n",
      "That's when I make a wish, to swim away with the fish\n",
      "Cause it's supposed to be this hot all summer long\n",
      "I never would've believed you if three years ago you told me\n",
      "I'd be here writing this song\n",
      "\n",
      "But here I am, next to you\n",
      "The sky's so blue in Malibu\n",
      "Next to you in Malibu\n",
      "Next to you\n",
      "Next to you\n",
      "The sky's so blue in Malibu\n",
      "Next to you\n",
      "\n",
      "We are just like the waves that flow back and forth\n",
      "Sometimes I feel like I'm drowning\n",
      "And you're there to save me\n",
      "And I wanna thank you with all of my heart\n",
      "It's a brand new start\n",
      "A dream come true in Malibu\n"
     ]
    }
   ],
   "source": [
    "malibu=genius.search_song(\"Malibu\", \"Miley Cyrus\")\n",
    "print(malibu.lyrics)"
   ]
  },
  {
   "cell_type": "markdown",
   "metadata": {},
   "source": [
    "## Saving the text in json files"
   ]
  },
  {
   "cell_type": "code",
   "execution_count": 28,
   "metadata": {},
   "outputs": [
    {
     "name": "stdout",
     "output_type": "stream",
     "text": [
      "Wrote Party in the U.S.A. to lyrics_mileycyrus_partyintheu.s.a..json.\n"
     ]
    },
    {
     "data": {
      "text/plain": [
       "{'songs': [{'title': 'Party in the U.S.A.',\n",
       "   'album': 'The Time of Our Lives',\n",
       "   'year': '2009-08-11',\n",
       "   'lyrics': 'I hopped off the plane at LAX\\nWith a dream and my cardigan\\nWelcome to the land of fame excess (Whoa)\\nAm I gonna fit in?\\nJumped in the cab, here I am for the first time\\nLook to my right, and I see the Hollywood sign\\nThis is all so crazy\\nEverybody seems so famous\\n\\nMy tummy\\'s turnin\\' and I\\'m feelin\\' kinda home sick\\nToo much pressure and I\\'m nervous\\nThat\\'s when the taxi man turned on the radio\\nAnd a JAY-Z song was on\\nAnd a JAY-Z song was on\\nAnd a JAY-Z song was on\\n\\nSo I put my hands up\\nThey\\'re playing my song, the butterflies fly away\\nI\\'m noddin\\' my head like, \\'yeah\\'\\nMovin\\' my hips like, \\'yeah\\'\\nGot my hands up, they\\'re playing my song\\nThey know I\\'m gonna be okay\\nYeah, it\\'s a party in the U.S.A.\\xa0\\nYeah, it\\'s a party in the U.S.A.\\xa0\\n\\nGet to the club in my taxi cab\\nEverybody\\'s looking at me now\\nLike, \"Who\\'s that chick, that\\'s rockin\\' kicks?\\nShe gotta be from out of town\"\\nSo hard with my girls not around me\\nIt\\'s definitely not a Nashville party\\n\\'Cause all I see are stilettos\\nI guess I never got the memo\\n\\nMy tummy\\'s turnin\\' and I\\'m feelin\\' kinda home sick\\nToo much pressure and I\\'m nervous\\nThat\\'s when the DJ dropped my favorite tune\\nAnd a Britney song was on\\nAnd a Britney song was on\\nAnd a Britney song was on\\n\\nSo I put my hands up\\nThey\\'re playing my song, the butterflies fly away\\nI\\'m noddin\\' my head like, \\'yeah\\'\\nMovin\\' my hips like, \\'yeah\\'\\nGot my hands up, they\\'re playing my song\\nThey know I\\'m gonna be okay\\nYeah, it\\'s a party in the U.S.A.\\xa0\\nYeah, it\\'s a party in the U.S.A.\\xa0\\n\\nFeel like hopping on a flight (On a flight)\\nBack to my hometown tonight (Town tonight)\\nSomething stops me every time (Every time)\\nThe DJ plays my song and I feel alright\\n\\nSo I put my hands up\\nThey\\'re playing my song, the butterflies fly away\\nI\\'m noddin\\' my head like, \\'yeah\\' (Noddin\\' my head)\\nMovin\\' my hips like, \\'yeah\\' (Ooh, yeah)\\nGot my hands up, they\\'re playing my song\\nThey know I\\'m gonna be okay (Gonna be okay)\\nYeah, it\\'s a party in the U.S.A.\\xa0\\nYeah, it\\'s a party in the U.S.A.\\xa0\\n\\nSo I put my hands up\\nThey\\'re playing my song, the butterflies fly away (Flying away)\\nI\\'m noddin\\' my head like, \\'yeah\\' (Noddin\\' my head like, \\'yeah\\')\\nMovin\\' my hips like, \\'yeah\\' (Movin\\' my hips like, \\'yeah\\')\\nGot my hands up, they\\'re playing my song\\nThey know I\\'m gonna be okay (I\\'m gonna be okay)\\nYeah, it\\'s a party in the U.S.A.\\xa0\\nYeah (ha-ha-ha-ha), it\\'s a party in the U.S.A.\\xa0',\n",
       "   'image': 'https://images.genius.com/8ec869ab3b6ee89e16b1f750fcc1a95c.900x900x1.jpg'}],\n",
       " 'artist': 'Miley Cyrus'}"
      ]
     },
     "execution_count": 28,
     "metadata": {},
     "output_type": "execute_result"
    }
   ],
   "source": [
    "partyintheusa.save_lyrics()"
   ]
  },
  {
   "cell_type": "code",
   "execution_count": 29,
   "metadata": {},
   "outputs": [
    {
     "name": "stdout",
     "output_type": "stream",
     "text": [
      "Wrote We Can't Stop to lyrics_mileycyrus_wecantstop.json.\n"
     ]
    },
    {
     "data": {
      "text/plain": [
       "{'songs': [{'title': \"We Can't Stop\",\n",
       "   'album': 'Bangerz',\n",
       "   'year': '2013-06-03',\n",
       "   'lyrics': 'It’s our party, we can do what we want\\nIt’s our party, we can say what we want\\nIt’s our party, we can love who we want\\nWe can kiss who we want\\nWe can screw who we want\\nIt’s our party, we can do what we want\\nIt’s our party, we can say what we want\\nIt’s our party, we can love who we want\\nWe can kiss who we want\\nWe can screw who we want\\n\\nRed cups and sweaty bodies everywhere\\nHands in the air like we don’t care\\n\\'Cause we came to have so much fun now\\nBet somebody here might get some now\\nIf you’re not ready to go home\\nCan I get a \"hell no\"?\\n\\'Cause we gonna go all night\\nTill we see the sunlight, alright\\n\\nSo la-da-di-da-di, we like to party\\nDancing with Molly\\nDoing whatever we want\\nThis is our house\\nThis is our rules\\n\\nAnd we can’t stop\\nAnd we won’t stop\\nCan\\'t you see it\\'s we who own the night?\\nCan\\'t you see it\\'s we who \\'bout that life?\\nAnd we can’t stop\\nAnd we won’t stop\\nWe run things, things don’t run we\\nDon’t take nothing from nobody\\n\\nIt’s our party, we can do what we want\\nIt’s our party, we can say what we want\\nIt’s our party, we can love who we want\\nWe can kiss who we want\\nWe can screw who we want\\n\\nTo my homegirls here with the big butt\\nShaking it like we at a strip club\\nRemember only God can judge ya\\nForget the haters, \\'cause somebody loves ya\\nAnd everyone in line in the bathroom\\nTrying to get a line in the bathroom\\nWe all so turnt up here\\nGetting turnt up, yeah, yeah, yeah, yeah\\n\\nSo la-da-di-da-di, we like to party\\nDancing with Molly\\nDoing whatever we want\\nThis is our house\\nThis is our rules\\n\\nAnd we can’t stop\\nAnd we won’t stop\\nCan\\'t you see it\\'s we who own the night?\\nCan\\'t you see it\\'s we who \\'bout that life?\\nAnd we can’t stop\\nAnd we won’t stop\\nWe run things, things don’t run we\\nDon’t take nothing from nobody, yeah, yeah\\n\\nIt’s our party, we can do what we want\\nIt’s our party, we can say what we want\\nIt’s our party, we can love who we want\\nWe can kiss who we want\\nWe can screw who we want\\n\\nIt\\'s our party, we can do what we want to!\\nIt\\'s our house, we can love who we want to!\\nIt\\'s our song, we can sing if we want to!\\nIt\\'s my mouth, I can say what I want to\\nYeah! Yeah! Yeah! Ehh!\\n\\nAnd we can\\'t stop (Yeah)\\nAnd we won\\'t stop (Oh)\\nCan\\'t you see it\\'s we who own the night?\\nCan\\'t you see it\\'s we who \\'bout that life?\\nAnd we can’t stop\\nAnd we won’t stop\\nWe run things, things don\\'t run we\\nDon’t take nothing from nobody, yeah, yeah\\nYeah, yeah\\n\\nWe can do what we want to\\nWe can do what we want to',\n",
       "   'image': 'https://images.genius.com/de2e4b47b17c6420ff34390f5531f0bb.1000x1000x1.png'}],\n",
       " 'artist': 'Miley Cyrus'}"
      ]
     },
     "execution_count": 29,
     "metadata": {},
     "output_type": "execute_result"
    }
   ],
   "source": [
    "wecantstop.save_lyrics()"
   ]
  },
  {
   "cell_type": "code",
   "execution_count": 30,
   "metadata": {},
   "outputs": [
    {
     "name": "stdout",
     "output_type": "stream",
     "text": [
      "Wrote Wrecking Ball to lyrics_mileycyrus_wreckingball.json.\n"
     ]
    },
    {
     "data": {
      "text/plain": [
       "{'songs': [{'title': 'Wrecking Ball',\n",
       "   'album': 'Bangerz',\n",
       "   'year': '2013-08-25',\n",
       "   'lyrics': 'We clawed, we chained, our hearts in vain\\nWe jumped, never asking why\\nWe kissed, I fell under your spell\\nA love no one could deny\\n\\nDon’t you ever say I just walked away\\nI will always want you\\nI can’t live a lie, running for my life\\nI will always want you\\n\\nI came in like a wrecking ball\\nI never hit so hard in love\\nAll I wanted was to break your walls\\nAll you ever did was wreck me\\nYeah, you, you wreck me\\n\\nI put you high up in the sky\\nAnd now, you’re not coming down\\nIt slowly turned, you let me burn\\nAnd now, we’re ashes on the ground\\n\\nDon’t you ever say I just walked away\\nI will always want you\\nI can’t live a lie, running for my life\\nI will always want you\\n\\nI came in like a wrecking ball\\nI never hit so hard in love\\nAll I wanted was to break your walls\\nAll you ever did was wreck me\\n\\nI came in like a wrecking ball\\nYeah, I just closed my eyes and swung\\nLeft me crashing in a blazing fall\\nAll you ever did was wreck me\\nYeah, you, you wreck me\\n\\nI never meant to start a war\\nI just wanted you to let me in\\nAnd instead of using force\\nI guess I should’ve let you win\\nI never meant to start a war\\nI just wanted you to let me in\\nI guess I should’ve let you win\\n\\nDon’t you ever say I just walked away\\nI will always want you\\n\\nI came in like a wrecking ball\\nI never hit so hard in love\\nAll I wanted was to break your walls\\nAll you ever did was wreck me\\n\\nI came in like a wrecking ball\\nYeah, I just closed my eyes and swung\\nLeft me crashing in a blazing fall\\nAll you ever did was wreck me\\nYeah, you, you wreck me\\nYeah, you, you wreck me',\n",
       "   'image': 'https://images.genius.com/ed2348ca01b47d18605b14e75ea18ea3.1000x1000x1.jpg'}],\n",
       " 'artist': 'Miley Cyrus'}"
      ]
     },
     "execution_count": 30,
     "metadata": {},
     "output_type": "execute_result"
    }
   ],
   "source": [
    "wreckingball.save_lyrics()"
   ]
  },
  {
   "cell_type": "code",
   "execution_count": 31,
   "metadata": {},
   "outputs": [
    {
     "name": "stdout",
     "output_type": "stream",
     "text": [
      "Wrote The Climb to lyrics_mileycyrus_theclimb.json.\n"
     ]
    },
    {
     "data": {
      "text/plain": [
       "{'songs': [{'title': 'The Climb',\n",
       "   'album': 'Hannah Montana: The Movie',\n",
       "   'year': '2009-03-12',\n",
       "   'lyrics': 'I can almost see it\\nThat dream I\\'m dreaming, but\\nThere\\'s a voice inside my head saying\\n\"You\\'ll never reach it\"\\nEvery step I\\'m taking\\nEvery move I make feels lost, with no direction\\nMy faith is shaken\\n\\nBut I, I gotta keep trying\\nGotta keep my head held high\\n\\nThere\\'s always gonna be another mountain\\nI\\'m always gonna wanna make it move\\nAlways gonna be an uphill battle\\nSometimes I\\'m gonna have to lose\\nAin’t about how fast I get there\\nAin’t about what\\'s waiting on the other side\\nIt\\'s the climb\\n\\nThe struggles I\\'m facing\\nThe chances I\\'m taking\\nSometimes might knock me down, but\\nNo, I\\'m not breaking\\nI may not know it\\nBut these are the moments that I\\'m gonna remember most, yeah\\nJust gotta keep going\\n\\nAnd I, I gotta be strong\\nJust keep pushing on, \\'cause...\\n\\nThere\\'s always gonna be another mountain\\nI\\'m always gonna wanna make it move\\nAlways gonna be an uphill battle\\nSometimes I\\'m gonna have to lose\\nAin’t about how fast I get there\\nAin’t about what\\'s waiting on the other side\\nIt\\'s the climb\\n\\n\\nThere\\'s always gonna be another mountain\\nI\\'m always gonna wanna make it move\\nAlways gonna be an uphill battle\\nSometimes you\\'re gonna have to lose\\nAin’t about how fast I get there\\nAin’t about what\\'s waiting on the other side\\nIt\\'s the climb\\n\\nKeep on moving\\nKeep climbing\\nKeep the faith, baby\\nIt\\'s all about, it\\'s all about the climb\\nKeep your faith, keep your faith',\n",
       "   'image': 'https://images.genius.com/ca5aa6afedb6c87dbb7299ee14aee3f5.600x600x1.jpg'}],\n",
       " 'artist': 'Miley Cyrus'}"
      ]
     },
     "execution_count": 31,
     "metadata": {},
     "output_type": "execute_result"
    }
   ],
   "source": [
    "theclimb.save_lyrics()"
   ]
  },
  {
   "cell_type": "code",
   "execution_count": 32,
   "metadata": {},
   "outputs": [
    {
     "name": "stdout",
     "output_type": "stream",
     "text": [
      "lyrics_mileycyrus_malibu.json already exists. Overwrite?\n",
      "(y/n): y\n",
      "Wrote Malibu to lyrics_mileycyrus_malibu.json.\n"
     ]
    },
    {
     "data": {
      "text/plain": [
       "{'songs': [{'title': 'Malibu',\n",
       "   'album': 'Younger Now',\n",
       "   'year': '2017-05-11',\n",
       "   'lyrics': \"I never came to the beach or stood by the ocean\\nI never sat by the shore under the sun with my feet in the sand\\nBut you brought me here, and I'm happy that you did\\n'Cause now I'm as free, as birds catchin' the wind\\nI always thought I would sink, so I never swam\\nI never went boatin', don't get how they are floatin'\\nAnd sometimes I get so scared of what I can't understand\\n\\nBut here I am, next to you\\nThe sky's more blue in Malibu\\nNext to you in Malibu\\nNext to you\\n\\nWe watched the sun go down as we were walkin'\\nI'd spent the rest of my life just standing here talkin'\\nYou would explain the current, as I just smile\\nHoping that you'll stay the same and nothing will change\\nAnd it'll be us, just for a while\\nDo they even exist?\\nThat's when I make a wish, to swim away with the fish\\nCause it's supposed to be this hot all summer long\\nI never would've believed you if three years ago you told me\\nI'd be here writing this song\\n\\nBut here I am, next to you\\nThe sky's so blue in Malibu\\nNext to you in Malibu\\nNext to you\\nNext to you\\nThe sky's so blue in Malibu\\nNext to you\\n\\nWe are just like the waves that flow back and forth\\nSometimes I feel like I'm drowning\\nAnd you're there to save me\\nAnd I wanna thank you with all of my heart\\nIt's a brand new start\\nA dream come true in Malibu\",\n",
       "   'image': 'https://images.genius.com/1150812ea3cb574770523308d15b8965.1000x1000x1.jpg'}],\n",
       " 'artist': 'Miley Cyrus'}"
      ]
     },
     "execution_count": 32,
     "metadata": {},
     "output_type": "execute_result"
    }
   ],
   "source": [
    "malibu.save_lyrics()"
   ]
  },
  {
   "cell_type": "code",
   "execution_count": null,
   "metadata": {},
   "outputs": [],
   "source": []
  }
 ],
 "metadata": {
  "kernelspec": {
   "display_name": "Python 3",
   "language": "python",
   "name": "python3"
  },
  "language_info": {
   "codemirror_mode": {
    "name": "ipython",
    "version": 3
   },
   "file_extension": ".py",
   "mimetype": "text/x-python",
   "name": "python",
   "nbconvert_exporter": "python",
   "pygments_lexer": "ipython3",
   "version": "3.7.0"
  }
 },
 "nbformat": 4,
 "nbformat_minor": 2
}
